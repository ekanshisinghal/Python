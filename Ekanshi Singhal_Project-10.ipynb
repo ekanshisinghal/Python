{
 "cells": [
  {
   "cell_type": "markdown",
   "metadata": {},
   "source": [
    "# <center><u>***PROJECT-10***</u></center>\n",
    "# <center><u>***Mean Yield of Catalyst***</u></center>"
   ]
  },
  {
   "cell_type": "markdown",
   "metadata": {},
   "source": [
    "**For a chemical plant, two catalysts have been analyzed to test the mean yield of a chemical process. The catalyst 1 is currently in use but the process engineer wants to test whether catalyst 2, that is cheaper, could be adopted. The test is conducted in the pilot plant and the mean yield for each catalyst is attached.**"
   ]
  },
  {
   "cell_type": "markdown",
   "metadata": {},
   "source": [
    "***Is there any difference in mean yield. Use α = 0.05 and assume equal variance?***"
   ]
  },
  {
   "cell_type": "markdown",
   "metadata": {},
   "source": [
    "**1) First load the data in pandas.**"
   ]
  },
  {
   "cell_type": "code",
   "execution_count": 3,
   "metadata": {},
   "outputs": [
    {
     "data": {
      "text/html": [
       "<div>\n",
       "<style scoped>\n",
       "    .dataframe tbody tr th:only-of-type {\n",
       "        vertical-align: middle;\n",
       "    }\n",
       "\n",
       "    .dataframe tbody tr th {\n",
       "        vertical-align: top;\n",
       "    }\n",
       "\n",
       "    .dataframe thead th {\n",
       "        text-align: right;\n",
       "    }\n",
       "</style>\n",
       "<table border=\"1\" class=\"dataframe\">\n",
       "  <thead>\n",
       "    <tr style=\"text-align: right;\">\n",
       "      <th></th>\n",
       "      <th>Catalyst1</th>\n",
       "      <th>Catalyst2</th>\n",
       "    </tr>\n",
       "  </thead>\n",
       "  <tbody>\n",
       "    <tr>\n",
       "      <th>0</th>\n",
       "      <td>91.50</td>\n",
       "      <td>89.19</td>\n",
       "    </tr>\n",
       "    <tr>\n",
       "      <th>1</th>\n",
       "      <td>94.18</td>\n",
       "      <td>90.95</td>\n",
       "    </tr>\n",
       "    <tr>\n",
       "      <th>2</th>\n",
       "      <td>92.18</td>\n",
       "      <td>90.46</td>\n",
       "    </tr>\n",
       "    <tr>\n",
       "      <th>3</th>\n",
       "      <td>95.39</td>\n",
       "      <td>93.21</td>\n",
       "    </tr>\n",
       "    <tr>\n",
       "      <th>4</th>\n",
       "      <td>91.79</td>\n",
       "      <td>97.19</td>\n",
       "    </tr>\n",
       "    <tr>\n",
       "      <th>5</th>\n",
       "      <td>89.07</td>\n",
       "      <td>97.04</td>\n",
       "    </tr>\n",
       "    <tr>\n",
       "      <th>6</th>\n",
       "      <td>94.72</td>\n",
       "      <td>91.07</td>\n",
       "    </tr>\n",
       "    <tr>\n",
       "      <th>7</th>\n",
       "      <td>89.21</td>\n",
       "      <td>92.75</td>\n",
       "    </tr>\n",
       "  </tbody>\n",
       "</table>\n",
       "</div>"
      ],
      "text/plain": [
       "   Catalyst1  Catalyst2\n",
       "0      91.50      89.19\n",
       "1      94.18      90.95\n",
       "2      92.18      90.46\n",
       "3      95.39      93.21\n",
       "4      91.79      97.19\n",
       "5      89.07      97.04\n",
       "6      94.72      91.07\n",
       "7      89.21      92.75"
      ]
     },
     "execution_count": 3,
     "metadata": {},
     "output_type": "execute_result"
    }
   ],
   "source": [
    "import pandas as pd\n",
    "data=pd.read_csv('catalyst.csv')\n",
    "data"
   ]
  },
  {
   "cell_type": "markdown",
   "metadata": {},
   "source": [
    "**2) Calculate the sample mean and sample standard deviation for both the catalyst.**"
   ]
  },
  {
   "cell_type": "code",
   "execution_count": 16,
   "metadata": {},
   "outputs": [
    {
     "name": "stdout",
     "output_type": "stream",
     "text": [
      "The mean of 'Catalyst 1' is: 92.25500000000001\n",
      "The standard deviation of 'Catalyst 1' is: 2.385018718105646\n"
     ]
    }
   ],
   "source": [
    "print('The mean of \\'Catalyst 1\\' is:',data['Catalyst1'].mean())\n",
    "print('The standard deviation of \\'Catalyst 1\\' is:',data['Catalyst1'].std())"
   ]
  },
  {
   "cell_type": "code",
   "execution_count": 17,
   "metadata": {},
   "outputs": [
    {
     "name": "stdout",
     "output_type": "stream",
     "text": [
      "The mean of 'Catalyst 2' is: 92.73249999999999\n",
      "The standard deviation of 'Catalyst 2' is: 2.983453176629871\n"
     ]
    }
   ],
   "source": [
    "print('The mean of \\'Catalyst 2\\' is:',data['Catalyst2'].mean())\n",
    "print('The standard deviation of \\'Catalyst 2\\' is:',data['Catalyst2'].std())"
   ]
  },
  {
   "cell_type": "markdown",
   "metadata": {},
   "source": [
    "**3) The number of rows for each catalyst.**"
   ]
  },
  {
   "cell_type": "code",
   "execution_count": 28,
   "metadata": {},
   "outputs": [
    {
     "name": "stdout",
     "output_type": "stream",
     "text": [
      "The number of rows for 'Catalyst 1' are : 8 \n",
      "The number of rows for 'Catalyst 2' are: 8\n"
     ]
    }
   ],
   "source": [
    "print('The number of rows for \\'Catalyst 1\\' are :',data['Catalyst1'].count(),'\\nThe number of rows for \\'Catalyst 2\\' are:',data['Catalyst2'].count())"
   ]
  },
  {
   "cell_type": "markdown",
   "metadata": {},
   "source": [
    "**4) Use the eight step hypothesis process.**"
   ]
  },
  {
   "cell_type": "markdown",
   "metadata": {},
   "source": [
    "<u>***STEP-1:***</u>  The parameter of interest are $μ_1$ and $μ_2$, the mean process yield using catalyst 1 and 2 respectively.<br>We want to know if $μ_1$ - $μ_2$=0.\n",
    "\n",
    "<u>***STEP-2:***</u>  Null Hypothesis $H_0$ : $μ_1$ - $μ_2$=0, or $H_0$: $μ_1$=$μ_2$.\n",
    "\n",
    "<u>***STEP-3:***</u>  Alternative Hypothesis $H_α$ : $μ_1$ ≠ $μ_2$.\n",
    "\n",
    "<u>***STEP-4:***</u>  α = 0.05\n",
    "\n",
    "<u>***STEP-5:***</u>  We need to calculate the test statistic with the help of $t_0$.\n",
    "\n",
    "<u>***STEP-6:***</u>  Reject $H_0$ if $t_0$ > t <sub>0.025,14</sub> = 2.145 or if $t_0$ < -t <sub>0.025,14</sub> = - 2.145"
   ]
  },
  {
   "cell_type": "code",
   "execution_count": 30,
   "metadata": {},
   "outputs": [
    {
     "data": {
      "text/plain": [
       "2.1447866879169273"
      ]
     },
     "execution_count": 30,
     "metadata": {},
     "output_type": "execute_result"
    }
   ],
   "source": [
    "from scipy.stats import t\n",
    "t.ppf(1.95/2,14)"
   ]
  },
  {
   "cell_type": "markdown",
   "metadata": {},
   "source": [
    "<u>***STEP-7:***</u>  \n",
    "**Computation:** we have $\\bar x_1$ = 92.55, $s_1$ = 2.39, $n_1$ = 8, $\\bar x_2$ = 92.733, $s_2$ = 2.98, $n_2$ = 8  \n",
    "$s_p$ = $\\sqrt{7.30}$ = 2.70\n",
    "\n",
    "<u>***STEP-8:***</u>  \n",
    "**Conclusions:** Since -2.145 < $t_0$ = -0.35 < 2.145 , the null hypothesis cannot be rejected. That is at the 0.05 significance level, we do not have strong evidence to conclude that catalyst 2 results in a mean yield that differs from the mean yield when catalyst 1 is used.<br>\n",
    "\n",
    "***Alternatively, we can use scipy.stats, a submodule of scipy***"
   ]
  },
  {
   "cell_type": "code",
   "execution_count": 32,
   "metadata": {},
   "outputs": [
    {
     "data": {
      "text/plain": [
       "Ttest_indResult(statistic=-0.3535908643461798, pvalue=0.7289136186068217)"
      ]
     },
     "execution_count": 32,
     "metadata": {},
     "output_type": "execute_result"
    }
   ],
   "source": [
    "import scipy.stats as st\n",
    "st.ttest_ind(data['Catalyst1'],data['Catalyst2'])"
   ]
  },
  {
   "cell_type": "markdown",
   "metadata": {},
   "source": [
    "The method returns the ***t*** statistic and ***p*** value"
   ]
  }
 ],
 "metadata": {
  "kernelspec": {
   "display_name": "Python 3",
   "language": "python",
   "name": "python3"
  },
  "language_info": {
   "codemirror_mode": {
    "name": "ipython",
    "version": 3
   },
   "file_extension": ".py",
   "mimetype": "text/x-python",
   "name": "python",
   "nbconvert_exporter": "python",
   "pygments_lexer": "ipython3",
   "version": "3.8.5"
  }
 },
 "nbformat": 4,
 "nbformat_minor": 4
}
