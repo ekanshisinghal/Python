{
 "cells": [
  {
   "cell_type": "markdown",
   "metadata": {},
   "source": [
    "# <center>PROJECT-8</center>"
   ]
  },
  {
   "cell_type": "markdown",
   "metadata": {},
   "source": [
    "**The results of tensile adhesion test conducted on an alloy specimen were analyzed. The load (in\n",
    "megapascals) at specimen failure is as follows:<br>\n",
    "19.8, 10.1, 15.4, 15.4, 18.5, 14.9, 7.5, 7.9, 12.7, 11.9, 15.4, 11.4, 14.1, 11.4, 17.6, 16.7, 15.8, 19.5, 8.8,\n",
    "13.6, 11.9, 11.4<br>\n",
    "<br>a) Load the data into numpy ndarray.**"
   ]
  },
  {
   "cell_type": "code",
   "execution_count": 14,
   "metadata": {},
   "outputs": [
    {
     "data": {
      "text/plain": [
       "array([19.8, 10.1, 15.4, 15.4, 18.5, 14.9,  7.5,  7.9, 12.7, 11.9, 15.4,\n",
       "       11.4, 14.1, 11.4, 17.6, 16.7, 15.8, 19.5,  8.8, 13.6, 11.9, 11.4])"
      ]
     },
     "execution_count": 14,
     "metadata": {},
     "output_type": "execute_result"
    }
   ],
   "source": [
    "import numpy as np\n",
    "a = np.array([19.8, 10.1, 15.4, 15.4, 18.5, 14.9, 7.5, 7.9, 12.7, 11.9, 15.4, 11.4, 14.1, 11.4, 17.6, 16.7, 15.8, 19.5, 8.8, 13.6, 11.9, 11.4])\n",
    "a"
   ]
  },
  {
   "cell_type": "markdown",
   "metadata": {},
   "source": [
    "**b) Calculate mean and standard deviation (degree of freedom n − 1).**"
   ]
  },
  {
   "cell_type": "code",
   "execution_count": 8,
   "metadata": {},
   "outputs": [
    {
     "name": "stdout",
     "output_type": "stream",
     "text": [
      "The length of the array is: 22\n",
      "The mean is: 13.713636363636363\n",
      "The standard deviation is: 3.553575724942474\n"
     ]
    }
   ],
   "source": [
    "n = print('The length of the array is:',len(a))\n",
    "mean = print('The mean is:',np.mean(a))\n",
    "std = print('The standard deviation is:',np.std(a,ddof=1))"
   ]
  },
  {
   "cell_type": "markdown",
   "metadata": {},
   "source": [
    "**c) Check whether the data is normally distributed?**"
   ]
  },
  {
   "cell_type": "code",
   "execution_count": 9,
   "metadata": {},
   "outputs": [
    {
     "data": {
      "image/png": "[encoded data removed]",
      "text/plain": [
       "<Figure size 432x288 with 1 Axes>"
      ]
     },
     "metadata": {
      "needs_background": "light"
     },
     "output_type": "display_data"
    }
   ],
   "source": [
    "import seaborn as sns\n",
    "import matplotlib.pyplot as plt\n",
    "\n",
    "#using boxplot\n",
    "ax = sns.boxplot(x=a)\n",
    "plt.show()"
   ]
  },
  {
   "cell_type": "markdown",
   "metadata": {},
   "source": [
    "Box plot shows that there are no outliers and median is approximately towards the middle of the IQR. Eventhough the data is slightly left skewed. We can say that the data is normally distributed from the boxplot in the figure above."
   ]
  },
  {
   "cell_type": "code",
   "execution_count": 10,
   "metadata": {},
   "outputs": [
    {
     "data": {
      "text/plain": [
       "((array([-1.86607372, -1.43791453, -1.17527742, -0.97550628, -0.80861848,\n",
       "         -0.66170536, -0.52787584, -0.40291473, -0.28396605, -0.16891711,\n",
       "         -0.05606845,  0.05606845,  0.16891711,  0.28396605,  0.40291473,\n",
       "          0.52787584,  0.66170536,  0.80861848,  0.97550628,  1.17527742,\n",
       "          1.43791453,  1.86607372]),\n",
       "  array([ 7.5,  7.9,  8.8, 10.1, 11.4, 11.4, 11.4, 11.9, 11.9, 12.7, 13.6,\n",
       "         14.1, 14.9, 15.4, 15.4, 15.4, 15.8, 16.7, 17.6, 18.5, 19.5, 19.8])),\n",
       " (3.6976974059916614, 13.713636363636363, 0.9912111231479538))"
      ]
     },
     "execution_count": 10,
     "metadata": {},
     "output_type": "execute_result"
    },
    {
     "data": {
      "image/png": "[encoded data removed]",
      "text/plain": [
       "<Figure size 432x288 with 1 Axes>"
      ]
     },
     "metadata": {
      "needs_background": "light"
     },
     "output_type": "display_data"
    }
   ],
   "source": [
    "#using Normal Probability Plot\n",
    "from scipy import stats\n",
    "stats.probplot(a, plot=plt)"
   ]
  },
  {
   "cell_type": "markdown",
   "metadata": {},
   "source": [
    "The box plot and normal probability plot support our assumption that the population is normally distributed."
   ]
  },
  {
   "cell_type": "markdown",
   "metadata": {},
   "source": [
    "**d) Check if n > 10$K_3^{2}$ and n > 10$K_4$.**"
   ]
  },
  {
   "cell_type": "code",
   "execution_count": 11,
   "metadata": {},
   "outputs": [
    {
     "name": "stdout",
     "output_type": "stream",
     "text": [
      "Skewness: 0.0019825338012995136\n",
      "Kurtosis: 8.520095618892656\n"
     ]
    }
   ],
   "source": [
    "print('Skewness:',10*np.square(stats.skew(a)))\n",
    "print('Kurtosis:',10*np.absolute(stats.kurtosis(a)))"
   ]
  },
  {
   "cell_type": "markdown",
   "metadata": {},
   "source": [
    "**e) Calculate a 95% CI on μ?**"
   ]
  },
  {
   "cell_type": "markdown",
   "metadata": {},
   "source": [
    "First we will calculate $t_0$$._025,21$\n",
    "for 95% CI and degree of freedom n-1=21"
   ]
  },
  {
   "cell_type": "code",
   "execution_count": 12,
   "metadata": {},
   "outputs": [
    {
     "name": "stdout",
     "output_type": "stream",
     "text": [
      "The t-score is : 2.079613844727662\n",
      "The 95% Confidence Interval is: (12.138069152904343, 15.289203574368383)\n"
     ]
    }
   ],
   "source": [
    "print('The t-score is :',stats.t.ppf(1.95/2,21))\n",
    "print('The 95% Confidence Interval is:',stats.t.interval(0.95,21,loc=np.mean(a),scale=stats.sem(a)))"
   ]
  },
  {
   "cell_type": "markdown",
   "metadata": {},
   "source": [
    "The CI is fairly wide because there is a lot of variability in the data."
   ]
  }
 ],
 "metadata": {
  "kernelspec": {
   "display_name": "Python 3",
   "language": "python",
   "name": "python3"
  },
  "language_info": {
   "codemirror_mode": {
    "name": "ipython",
    "version": 3
   },
   "file_extension": ".py",
   "mimetype": "text/x-python",
   "name": "python",
   "nbconvert_exporter": "python",
   "pygments_lexer": "ipython3",
   "version": "3.8.5"
  }
 },
 "nbformat": 4,
 "nbformat_minor": 4
}
